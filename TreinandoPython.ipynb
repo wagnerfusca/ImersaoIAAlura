{
  "nbformat": 4,
  "nbformat_minor": 0,
  "metadata": {
    "colab": {
      "provenance": [],
      "authorship_tag": "ABX9TyPyxJq0YX7jq7LsDLhE9KKi",
      "include_colab_link": true
    },
    "kernelspec": {
      "name": "python3",
      "display_name": "Python 3"
    },
    "language_info": {
      "name": "python"
    }
  },
  "cells": [
    {
      "cell_type": "markdown",
      "metadata": {
        "id": "view-in-github",
        "colab_type": "text"
      },
      "source": [
        "<a href=\"https://colab.research.google.com/github/wagnerfusca/ImersaoIAAlura/blob/main/TreinandoPython.ipynb\" target=\"_parent\"><img src=\"https://colab.research.google.com/assets/colab-badge.svg\" alt=\"Open In Colab\"/></a>"
      ]
    },
    {
      "cell_type": "code",
      "execution_count": 6,
      "metadata": {
        "colab": {
          "base_uri": "https://localhost:8080/"
        },
        "id": "H2LP1emE4KxD",
        "outputId": "673e5da4-e28c-4c32-d4c5-8cb63624d358"
      },
      "outputs": [
        {
          "output_type": "execute_result",
          "data": {
            "text/plain": [
              "[{'palavra': 'python',\n",
              "  'dica': 'automatizar tarefas e desenvolver aplicações web.'},\n",
              " {'palavra': 'javascript',\n",
              "  'dica': 'criar interatividade em páginas web e desenvolver aplicações front-end.'},\n",
              " {'palavra': 'java',\n",
              "  'dica': 'desenvolver aplicações empresariais e para dispositivos móveis.'},\n",
              " {'palavra': 'html', 'dica': 'estruturar conteúdo em páginas web.'},\n",
              " {'palavra': 'css', 'dica': 'estilizar elementos em páginas web.'},\n",
              " {'palavra': 'sql',\n",
              "  'dica': 'gerenciar e consultar bancos de dados relacionais.'},\n",
              " {'palavra': 'react',\n",
              "  'dica': 'desenvolver interfaces de usuário reativas e escaláveis.'},\n",
              " {'palavra': 'angular',\n",
              "  'dica': 'construir aplicativos web spa (single page application) complexos.'},\n",
              " {'palavra': 'node',\n",
              "  'dica': 'criar aplicativos de servidor escaláveis e de alta performance.'},\n",
              " {'palavra': 'vue',\n",
              "  'dica': 'desenvolver interfaces de usuário interativas e dinâmicas.'},\n",
              " {'palavra': 'ruby',\n",
              "  'dica': 'desenvolver aplicações web e scripts de automação.'},\n",
              " {'palavra': 'php',\n",
              "  'dica': 'construir aplicações web dinâmicas e interativas.'},\n",
              " {'palavra': 'c++',\n",
              "  'dica': 'desenvolver software de sistema, jogos e aplicações de alto desempenho.'},\n",
              " {'palavra': 'c#',\n",
              "  'dica': 'desenvolver aplicações windows e jogos utilizando o framework .net.'},\n",
              " {'palavra': 'swift',\n",
              "  'dica': 'desenvolver aplicativos para dispositivos apple, como iphone e ipad.'},\n",
              " {'palavra': 'kotlin',\n",
              "  'dica': 'desenvolver aplicativos android modernos e seguros.'},\n",
              " {'palavra': 'tensorflow',\n",
              "  'dica': 'construir e treinar modelos de aprendizado de máquina.'},\n",
              " {'palavra': 'pytorch',\n",
              "  'dica': 'desenvolver e treinar modelos de aprendizado profundo.'},\n",
              " {'palavra': 'mongodb',\n",
              "  'dica': 'armazenar e consultar dados de forma flexível e escalável.'},\n",
              " {'palavra': 'postgresql',\n",
              "  'dica': 'gerenciar dados estruturados e relacionais com segurança.'},\n",
              " {'palavra': 'docker',\n",
              "  'dica': 'empacotar, distribuir e executar aplicativos em contêineres.'},\n",
              " {'palavra': 'kubernetes',\n",
              "  'dica': 'orquestrar e gerenciar contêineres em ambientes de produção.'},\n",
              " {'palavra': 'git',\n",
              "  'dica': 'controlar e colaborar no desenvolvimento de código-fonte.'},\n",
              " {'palavra': 'jupyter',\n",
              "  'dica': 'criar e compartilhar documentos que contenham código interativo, visualizações e textos explicativos.'},\n",
              " {'palavra': 'r',\n",
              "  'dica': 'analisar dados e criar visualizações estatísticas.'},\n",
              " {'palavra': 'scala',\n",
              "  'dica': 'desenvolver aplicativos escaláveis e concorrentes na jvm.'},\n",
              " {'palavra': 'hadoop',\n",
              "  'dica': 'armazenar e processar grandes volumes de dados em clusters distribuídos.'},\n",
              " {'palavra': 'spark',\n",
              "  'dica': 'processar e analisar dados de forma rápida e escalável.'},\n",
              " {'palavra': 'arduino',\n",
              "  'dica': 'desenvolver projetos eletrônicos interativos e automatizados.'},\n",
              " {'palavra': 'raspberry',\n",
              "  'dica': 'criar dispositivos e projetos de iot (internet das coisas) com baixo custo.'},\n",
              " {'palavra': 'linux',\n",
              "  'dica': 'utilizar e administrar sistemas operacionais de código aberto.'},\n",
              " {'palavra': 'windows',\n",
              "  'dica': 'desenvolver aplicativos e sistemas operacionais para computadores pessoais.'},\n",
              " {'palavra': 'macos',\n",
              "  'dica': 'desenvolver aplicativos para computadores apple e sistemas operacionais.'},\n",
              " {'palavra': 'android',\n",
              "  'dica': 'desenvolver aplicativos para dispositivos móveis android.'},\n",
              " {'palavra': 'ios',\n",
              "  'dica': 'desenvolver aplicativos para dispositivos móveis apple (iphone e ipad).'},\n",
              " {'palavra': 'firebase',\n",
              "  'dica': 'desenvolver aplicativos móveis e web com uma plataforma de backend escalável.'},\n",
              " {'palavra': 'aws',\n",
              "  'dica': 'implantar e gerenciar aplicativos em uma plataforma de nuvem líder de mercado.'},\n",
              " {'palavra': 'azure',\n",
              "  'dica': 'desenvolver, implantar e gerenciar aplicativos em uma plataforma de nuvem da microsoft.'},\n",
              " {'palavra': 'google',\n",
              "  'dica': 'utilizar serviços e produtos da google para desenvolvimento e negócios.'},\n",
              " {'palavra': 'api',\n",
              "  'dica': 'integrar e comunicar sistemas e serviços de software.'},\n",
              " {'palavra': 'rest',\n",
              "  'dica': 'criar e consumir apis web de maneira simples e eficiente.'},\n",
              " {'palavra': 'graphql',\n",
              "  'dica': 'consultar e manipular dados de forma eficiente e flexível.'},\n",
              " {'palavra': 'oauth',\n",
              "  'dica': 'implementar autenticação e autorização em aplicativos.'}]"
            ]
          },
          "metadata": {},
          "execution_count": 6
        }
      ],
      "source": [
        "import requests\n",
        "\n",
        "url = 'https://raw.githubusercontent.com/guilhermeonrails/api-imersao-ia/main/words.json'\n",
        "\n",
        "resposta = requests.get(url)\n",
        "\n",
        "data = resposta.json()\n",
        "data\n",
        "\n",
        "\n"
      ]
    },
    {
      "cell_type": "code",
      "source": [
        "len(data)"
      ],
      "metadata": {
        "colab": {
          "base_uri": "https://localhost:8080/"
        },
        "id": "YnbcTQOT5J76",
        "outputId": "700ad5e4-545e-4389-b243-e913fb0d68e5"
      },
      "execution_count": 7,
      "outputs": [
        {
          "output_type": "execute_result",
          "data": {
            "text/plain": [
              "43"
            ]
          },
          "metadata": {},
          "execution_count": 7
        }
      ]
    },
    {
      "cell_type": "code",
      "source": [
        "type(data)"
      ],
      "metadata": {
        "colab": {
          "base_uri": "https://localhost:8080/"
        },
        "id": "AUyII_QT5M7h",
        "outputId": "7c543b3e-a2a1-4cc1-b238-20a55d6199bb"
      },
      "execution_count": 8,
      "outputs": [
        {
          "output_type": "execute_result",
          "data": {
            "text/plain": [
              "list"
            ]
          },
          "metadata": {},
          "execution_count": 8
        }
      ]
    },
    {
      "cell_type": "code",
      "source": [
        "data[0]"
      ],
      "metadata": {
        "colab": {
          "base_uri": "https://localhost:8080/"
        },
        "id": "Tshatjin5T2B",
        "outputId": "6aa1e2f0-496e-4a20-95b7-a3d9c8fd9ea6"
      },
      "execution_count": 9,
      "outputs": [
        {
          "output_type": "execute_result",
          "data": {
            "text/plain": [
              "{'palavra': 'python',\n",
              " 'dica': 'automatizar tarefas e desenvolver aplicações web.'}"
            ]
          },
          "metadata": {},
          "execution_count": 9
        }
      ]
    },
    {
      "cell_type": "code",
      "source": [
        "data[len(data)-1]"
      ],
      "metadata": {
        "colab": {
          "base_uri": "https://localhost:8080/"
        },
        "id": "9NXwa8kf5Tu5",
        "outputId": "8cb5fc9b-5adf-45dd-ab80-30fd84225c6e"
      },
      "execution_count": 10,
      "outputs": [
        {
          "output_type": "execute_result",
          "data": {
            "text/plain": [
              "{'palavra': 'oauth',\n",
              " 'dica': 'implementar autenticação e autorização em aplicativos.'}"
            ]
          },
          "metadata": {},
          "execution_count": 10
        }
      ]
    },
    {
      "cell_type": "code",
      "source": [
        "data[-2]"
      ],
      "metadata": {
        "colab": {
          "base_uri": "https://localhost:8080/"
        },
        "id": "JhbJO9i35b0B",
        "outputId": "e7f390f6-b8e6-4c87-cdd6-d4d090ca3412"
      },
      "execution_count": 11,
      "outputs": [
        {
          "output_type": "execute_result",
          "data": {
            "text/plain": [
              "{'palavra': 'graphql',\n",
              " 'dica': 'consultar e manipular dados de forma eficiente e flexível.'}"
            ]
          },
          "metadata": {},
          "execution_count": 11
        }
      ]
    },
    {
      "cell_type": "code",
      "source": [
        "import random\n",
        "\n",
        "valor_secreto = random.choice(data)\n",
        "palavra_secreta = valor_secreto['palavra']\n",
        "dica = valor_secreto['dica']\n",
        "\n",
        "print(f'A palavra secreta tem: {len(palavra_secreta)} -> {dica}')\n",
        "\n",
        "resposta = input('Resposta:' )\n",
        "if (palavra_secreta == resposta):\n",
        "  print('acertou')\n",
        "else:\n",
        "  print('errou')"
      ],
      "metadata": {
        "colab": {
          "base_uri": "https://localhost:8080/"
        },
        "id": "_i4PAVv_5iRZ",
        "outputId": "0321b65d-ea2b-458b-d413-3ccce5d9a286"
      },
      "execution_count": 27,
      "outputs": [
        {
          "output_type": "stream",
          "name": "stdout",
          "text": [
            "A palavra secreta tem: 3 -> integrar e comunicar sistemas e serviços de software.\n",
            "Resposta:api\n",
            "acertou\n"
          ]
        }
      ]
    }
  ]
}
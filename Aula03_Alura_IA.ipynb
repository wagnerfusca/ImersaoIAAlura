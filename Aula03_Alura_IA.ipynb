{
  "nbformat": 4,
  "nbformat_minor": 0,
  "metadata": {
    "colab": {
      "provenance": [],
      "authorship_tag": "ABX9TyMyYIROuQ1kOpn2jXRNCIau",
      "include_colab_link": true
    },
    "kernelspec": {
      "name": "python3",
      "display_name": "Python 3"
    },
    "language_info": {
      "name": "python"
    }
  },
  "cells": [
    {
      "cell_type": "markdown",
      "metadata": {
        "id": "view-in-github",
        "colab_type": "text"
      },
      "source": [
        "<a href=\"https://colab.research.google.com/github/wagnerfusca/ImersaoIAAlura/blob/main/Aula03_Alura_IA.ipynb\" target=\"_parent\"><img src=\"https://colab.research.google.com/assets/colab-badge.svg\" alt=\"Open In Colab\"/></a>"
      ]
    },
    {
      "cell_type": "code",
      "execution_count": 1,
      "metadata": {
        "id": "cJlg2uN3TYel"
      },
      "outputs": [],
      "source": [
        "!pip install -q -U google-generativeai"
      ]
    },
    {
      "cell_type": "code",
      "source": [
        "import google.generativeai as genai\n",
        "\n",
        "from google.colab import userdata\n",
        "api_key = userdata.get('SECRET_KEY')\n",
        "\n",
        "genai.configure(api_key=api_key)"
      ],
      "metadata": {
        "id": "crLxAgqXTdhJ"
      },
      "execution_count": 14,
      "outputs": []
    },
    {
      "cell_type": "code",
      "source": [
        "for m in genai.list_models():\n",
        "  if 'generateContent' in m.supported_generation_methods:\n",
        "    print(m.name)"
      ],
      "metadata": {
        "colab": {
          "base_uri": "https://localhost:8080/",
          "height": 146
        },
        "id": "-TALaoMmTftA",
        "outputId": "a85f4976-f80e-4be9-d872-8bc7dc381358"
      },
      "execution_count": 3,
      "outputs": [
        {
          "output_type": "stream",
          "name": "stdout",
          "text": [
            "models/gemini-1.0-pro\n",
            "models/gemini-1.0-pro-001\n",
            "models/gemini-1.0-pro-latest\n",
            "models/gemini-1.0-pro-vision-latest\n",
            "models/gemini-1.5-pro-latest\n",
            "models/gemini-pro\n",
            "models/gemini-pro-vision\n"
          ]
        }
      ]
    },
    {
      "cell_type": "code",
      "source": [
        "generation_config = {\n",
        "    \"candidate_count\":1,\n",
        "    \"temperature\":0.5\n",
        "}"
      ],
      "metadata": {
        "id": "uUFdtxBGTqLw"
      },
      "execution_count": 4,
      "outputs": []
    },
    {
      "cell_type": "code",
      "source": [
        "safety_settings = {\n",
        "    \"HARASSMENT\":\"BLOCK_NONE\",\n",
        "    \"HATE\":\"BLOCK_NONE\",\n",
        "    \"SEXUAL\":\"BLOCK_NONE\",\n",
        "    \"DANGEROUS\":\"BLOCK_NONE\",\n",
        "}"
      ],
      "metadata": {
        "id": "ctxrnIqaT8Cq"
      },
      "execution_count": 5,
      "outputs": []
    },
    {
      "cell_type": "code",
      "source": [
        "model = genai.GenerativeModel(model_name=\"gemini-1.0-pro\",\n",
        "                              generation_config=generation_config,\n",
        "                              safety_settings=safety_settings)\n"
      ],
      "metadata": {
        "id": "QeuLo7RlUUvp"
      },
      "execution_count": 6,
      "outputs": []
    },
    {
      "cell_type": "code",
      "source": [
        "response = model.generate_content(\"Me fale os 3 paises mais tem copas do mundo de futebol feminino\")\n",
        "print(response.text)"
      ],
      "metadata": {
        "colab": {
          "base_uri": "https://localhost:8080/",
          "height": 72
        },
        "id": "lIpP4Hj8VBLr",
        "outputId": "8a46c7ad-7f31-428d-e0b6-a53ce641efbf"
      },
      "execution_count": 15,
      "outputs": [
        {
          "output_type": "stream",
          "name": "stdout",
          "text": [
            "1. Estados Unidos (4)\n",
            "2. Alemanha (2)\n",
            "3. Japão (1)\n"
          ]
        }
      ]
    },
    {
      "cell_type": "code",
      "source": [
        "chat = model.start_chat(history=[])\n"
      ],
      "metadata": {
        "id": "i9run224VVSx"
      },
      "execution_count": 9,
      "outputs": []
    },
    {
      "cell_type": "code",
      "source": [
        "prompt = input(\"Esperando prompt: \")\n",
        "\n",
        "while prompt != \"fim\" :\n",
        "  response = chat.send_message(prompt)\n",
        "  print(\"Resposta: \", response.text, \"\\n\")\n",
        "  prompt = input(\"Esperando prompt: \")\n"
      ],
      "metadata": {
        "colab": {
          "base_uri": "https://localhost:8080/",
          "height": 867
        },
        "id": "JlvkFns2VhEB",
        "outputId": "6976cdeb-bfeb-449b-ac3f-4382405fbd13"
      },
      "execution_count": 12,
      "outputs": [
        {
          "name": "stdout",
          "output_type": "stream",
          "text": [
            "Esperando prompt: Qual é a capital do japão?\n",
            "Resposta:  Tóquio \n",
            "\n",
            "Esperando promptqual é a comida tipica desse pais?\n",
            "Resposta:  **Sushi**\n",
            "\n",
            "O sushi é um prato japonês composto por arroz avinagrado combinado com vários outros ingredientes, incluindo frutos do mar, vegetais e ovos. É frequentemente servido com molho de soja, wasabi e gengibre em conserva.\n",
            "\n",
            "**Sashimi**\n",
            "\n",
            "O sashimi é um prato japonês composto por finas fatias de peixe ou marisco cru. É frequentemente servido com molho de soja e wasabi.\n",
            "\n",
            "**Tempura**\n",
            "\n",
            "A tempura é um prato japonês composto por frutos do mar ou vegetais fritos em massa. É frequentemente servido com molho de tempura.\n",
            "\n",
            "**Ramen**\n",
            "\n",
            "O ramen é um prato japonês composto por macarrão de trigo servido em um caldo à base de carne ou peixe. É frequentemente coberto com vários ingredientes, como fatias de porco, ovo cozido e cebolinha.\n",
            "\n",
            "**Udon**\n",
            "\n",
            "O udon é um prato japonês composto por macarrão de trigo grosso servido em um caldo à base de dashi. É frequentemente coberto com vários ingredientes, como tempura, tofu e cebolinha.\n",
            "\n",
            "**Soba**\n",
            "\n",
            "O soba é um prato japonês composto por macarrão de trigo sarraceno servido em um caldo à base de dashi. É frequentemente coberto com vários ingredientes, como tempura, tofu e cebolinha.\n",
            "\n",
            "**Onigiri**\n",
            "\n",
            "O onigiri é um prato japonês composto por bolas de arroz recheadas com vários ingredientes, como atum, salmão ou umeboshi. É frequentemente envolto em alga marinha.\n",
            "\n",
            "**Yakitori**\n",
            "\n",
            "O yakitori é um prato japonês composto por espetos de frango grelhados. É frequentemente servido com molho de teriyaki.\n",
            "\n",
            "**Takoyaki**\n",
            "\n",
            "O takoyaki é um prato japonês composto por bolas de massa fritas recheadas com polvo. É frequentemente coberto com molho de takoyaki, maionese e flocos de tempura.\n",
            "\n",
            "**Okonomiyaki**\n",
            "\n",
            "O okonomiyaki é um prato japonês composto por uma panqueca salgada feita com farinha, repolho e vários outros ingredientes. É frequentemente coberto com molho de okonomiyaki, maionese e flocos de tempura. \n",
            "\n",
            "Esperando promptfim\n"
          ]
        }
      ]
    },
    {
      "cell_type": "code",
      "source": [
        "chat.history"
      ],
      "metadata": {
        "colab": {
          "base_uri": "https://localhost:8080/"
        },
        "id": "kG2WwiXJW58J",
        "outputId": "9c8ef97a-3527-4d05-c356-5bbd5e19c4ba"
      },
      "execution_count": 13,
      "outputs": [
        {
          "output_type": "execute_result",
          "data": {
            "text/plain": [
              "[parts {\n",
              "   text: \"qual \\303\\251 a capital dos EUA\"\n",
              " }\n",
              " role: \"user\",\n",
              " parts {\n",
              "   text: \"Washington, D.C.\"\n",
              " }\n",
              " role: \"model\",\n",
              " parts {\n",
              "   text: \"o que \\303\\251 um pepino?\"\n",
              " }\n",
              " role: \"user\",\n",
              " parts {\n",
              "   text: \"Um pepino \\303\\251 um fruto comest\\303\\255vel da fam\\303\\255lia das cucurbit\\303\\241ceas, que tamb\\303\\251m inclui ab\\303\\263boras, abobrinhas e melancias. \\303\\211 uma videira rasteira com folhas grandes e peludas e flores amarelas. Os pepinos s\\303\\243o geralmente verdes quando imaturos e ficam amarelos ou alaranjados quando maduros. Eles t\\303\\252m uma casca fina e uma polpa branca e aquosa com muitas sementes pequenas.\\n\\nOs pepinos s\\303\\243o origin\\303\\241rios da \\303\\215ndia e foram cultivados h\\303\\241 milhares de anos. Eles s\\303\\243o agora cultivados em todo o mundo e s\\303\\243o um alimento b\\303\\241sico em muitas culturas. Os pepinos s\\303\\243o consumidos crus, em saladas, sandu\\303\\255ches e outros pratos. Eles tamb\\303\\251m s\\303\\243o usados \\342\\200\\213\\342\\200\\213para fazer picles, conservas e outros condimentos.\\n\\nOs pepinos s\\303\\243o uma boa fonte de vitaminas e minerais, incluindo vitamina C, pot\\303\\241ssio e magn\\303\\251sio. Eles tamb\\303\\251m s\\303\\243o baixos em calorias e gordura.\"\n",
              " }\n",
              " role: \"model\",\n",
              " parts {\n",
              "   text: \"Qual \\303\\251 a capital do jap\\303\\243o?\"\n",
              " }\n",
              " role: \"user\",\n",
              " parts {\n",
              "   text: \"T\\303\\263quio\"\n",
              " }\n",
              " role: \"model\",\n",
              " parts {\n",
              "   text: \"qual \\303\\251 a comida tipica desse pais?\"\n",
              " }\n",
              " role: \"user\",\n",
              " parts {\n",
              "   text: \"**Sushi**\\n\\nO sushi \\303\\251 um prato japon\\303\\252s composto por arroz avinagrado combinado com v\\303\\241rios outros ingredientes, incluindo frutos do mar, vegetais e ovos. \\303\\211 frequentemente servido com molho de soja, wasabi e gengibre em conserva.\\n\\n**Sashimi**\\n\\nO sashimi \\303\\251 um prato japon\\303\\252s composto por finas fatias de peixe ou marisco cru. \\303\\211 frequentemente servido com molho de soja e wasabi.\\n\\n**Tempura**\\n\\nA tempura \\303\\251 um prato japon\\303\\252s composto por frutos do mar ou vegetais fritos em massa. \\303\\211 frequentemente servido com molho de tempura.\\n\\n**Ramen**\\n\\nO ramen \\303\\251 um prato japon\\303\\252s composto por macarr\\303\\243o de trigo servido em um caldo \\303\\240 base de carne ou peixe. \\303\\211 frequentemente coberto com v\\303\\241rios ingredientes, como fatias de porco, ovo cozido e cebolinha.\\n\\n**Udon**\\n\\nO udon \\303\\251 um prato japon\\303\\252s composto por macarr\\303\\243o de trigo grosso servido em um caldo \\303\\240 base de dashi. \\303\\211 frequentemente coberto com v\\303\\241rios ingredientes, como tempura, tofu e cebolinha.\\n\\n**Soba**\\n\\nO soba \\303\\251 um prato japon\\303\\252s composto por macarr\\303\\243o de trigo sarraceno servido em um caldo \\303\\240 base de dashi. \\303\\211 frequentemente coberto com v\\303\\241rios ingredientes, como tempura, tofu e cebolinha.\\n\\n**Onigiri**\\n\\nO onigiri \\303\\251 um prato japon\\303\\252s composto por bolas de arroz recheadas com v\\303\\241rios ingredientes, como atum, salm\\303\\243o ou umeboshi. \\303\\211 frequentemente envolto em alga marinha.\\n\\n**Yakitori**\\n\\nO yakitori \\303\\251 um prato japon\\303\\252s composto por espetos de frango grelhados. \\303\\211 frequentemente servido com molho de teriyaki.\\n\\n**Takoyaki**\\n\\nO takoyaki \\303\\251 um prato japon\\303\\252s composto por bolas de massa fritas recheadas com polvo. \\303\\211 frequentemente coberto com molho de takoyaki, maionese e flocos de tempura.\\n\\n**Okonomiyaki**\\n\\nO okonomiyaki \\303\\251 um prato japon\\303\\252s composto por uma panqueca salgada feita com farinha, repolho e v\\303\\241rios outros ingredientes. \\303\\211 frequentemente coberto com molho de okonomiyaki, maionese e flocos de tempura.\"\n",
              " }\n",
              " role: \"model\"]"
            ]
          },
          "metadata": {},
          "execution_count": 13
        }
      ]
    }
  ]
}